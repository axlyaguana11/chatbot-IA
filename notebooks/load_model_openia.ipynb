{
 "cells": [
  {
   "cell_type": "code",
   "execution_count": 21,
   "metadata": {},
   "outputs": [],
   "source": [
    "import openai\n",
    "from dotenv import load_dotenv\n",
    "import os"
   ]
  },
  {
   "cell_type": "code",
   "execution_count": 22,
   "metadata": {},
   "outputs": [
    {
     "data": {
      "text/plain": [
       "True"
      ]
     },
     "execution_count": 22,
     "metadata": {},
     "output_type": "execute_result"
    }
   ],
   "source": [
    "load_dotenv()"
   ]
  },
  {
   "cell_type": "code",
   "execution_count": 23,
   "metadata": {},
   "outputs": [],
   "source": [
    "OPENAI_API_KEY = str(os.getenv('OPENAI_API_TEST'))\n",
    "openai.api_key = OPENAI_API_KEY"
   ]
  },
  {
   "cell_type": "code",
   "execution_count": 16,
   "metadata": {},
   "outputs": [],
   "source": [
    "response = openai.Completion.create(\n",
    "    engine = 'text-davinci-003',\n",
    "    prompt = '¿Quién descubrió América?',\n",
    "    max_tokens = 50\n",
    ")"
   ]
  },
  {
   "cell_type": "code",
   "execution_count": 18,
   "metadata": {},
   "outputs": [
    {
     "name": "stdout",
     "output_type": "stream",
     "text": [
      "\n",
      "\n",
      "Ningún explorador descubrió América. Los primeros habitantes de América probablemente llegaron desde Asia hace unos 16.000 años a través del est\n"
     ]
    }
   ],
   "source": [
    "print(response.choices[0].text)"
   ]
  },
  {
   "cell_type": "code",
   "execution_count": 19,
   "metadata": {},
   "outputs": [],
   "source": [
    "response = openai.Completion.create(\n",
    "    engine = 'ada',\n",
    "    prompt = '¿Quién descubrió América?',\n",
    "    max_tokens = 50\n",
    ")"
   ]
  },
  {
   "cell_type": "code",
   "execution_count": 20,
   "metadata": {},
   "outputs": [
    {
     "name": "stdout",
     "output_type": "stream",
     "text": [
      " -bromeaba su visitante, y de derecha a izquierda se cayeron las puertas del carruaje de vol servants. Subí ya el de Gideon: tio Lorca dormía\n"
     ]
    }
   ],
   "source": [
    "print(response.choices[0].text)"
   ]
  },
  {
   "cell_type": "markdown",
   "metadata": {},
   "source": [
    "## Modifying parameters\n",
    "\n",
    "See documentation: https://platform.openai.com/docs/api-reference/completions/object?lang=python\n"
   ]
  },
  {
   "cell_type": "code",
   "execution_count": 28,
   "metadata": {},
   "outputs": [],
   "source": [
    "response = openai.Completion.create(\n",
    "    engine = 'text-davinci-003',\n",
    "    prompt = '¿Quién descubrió América?',\n",
    "    max_tokens = 100,\n",
    "    temperature = 0.3,\n",
    "    n = 1\n",
    ")"
   ]
  },
  {
   "cell_type": "code",
   "execution_count": 29,
   "metadata": {},
   "outputs": [
    {
     "name": "stdout",
     "output_type": "stream",
     "text": [
      "\n",
      "\n",
      "Ninguna persona descubrió América, ya que los primeros habitantes de América fueron los pueblos indígenas. La llegada de Cristóbal Colón a América en 1492 se considera el \"descubrimiento\" de América para los europeos.\n"
     ]
    }
   ],
   "source": [
    "print(response.choices[0].text)"
   ]
  },
  {
   "cell_type": "code",
   "execution_count": 30,
   "metadata": {},
   "outputs": [
    {
     "name": "stdout",
     "output_type": "stream",
     "text": [
      "\n",
      "\n",
      "Cristóbal Colón descubrió América en 1492.\n"
     ]
    }
   ],
   "source": [
    "response = openai.Completion.create(\n",
    "    engine = 'text-davinci-003',\n",
    "    prompt = '¿Quién descubrió América?',\n",
    "    max_tokens = 100,\n",
    "    temperature = 0.9,\n",
    "    n = 1\n",
    ")\n",
    "\n",
    "print(response.choices[0].text)"
   ]
  },
  {
   "cell_type": "code",
   "execution_count": 33,
   "metadata": {},
   "outputs": [
    {
     "name": "stdout",
     "output_type": "stream",
     "text": [
      "\n",
      "\n",
      "Ninguna persona descubrió América. Los primeros habitantes de América fueron los pueblos nativos que llegaron a través del estrecho de Bering hace miles de años. El explorador europeo más famoso asociado con el descubrimiento de América es Cristóbal Colón, quien llegó a las Américas en 1492.\n"
     ]
    }
   ],
   "source": [
    "response = openai.Completion.create(\n",
    "    engine = 'text-davinci-003',\n",
    "    prompt = '¿Quién descubrió América?',\n",
    "    max_tokens = 190,\n",
    "    temperature = 0.3,\n",
    "    n = 1\n",
    ")\n",
    "\n",
    "print(response.choices[0].text)"
   ]
  },
  {
   "cell_type": "code",
   "execution_count": 34,
   "metadata": {},
   "outputs": [
    {
     "name": "stdout",
     "output_type": "stream",
     "text": [
      "\n",
      "\n",
      "Ninguna persona individual descubrió América. América fue descubierta independientemente por diversos grupos de personas provenientes de distintas partes del mundo a lo largo de miles de años. La exploración más famosa del Nuevo Mundo fue la de Cristóbal Colón en 1492.\n"
     ]
    }
   ],
   "source": [
    "response = openai.Completion.create(\n",
    "    engine = 'text-davinci-003',\n",
    "    prompt = '¿Quién descubrió América?',\n",
    "    max_tokens = 190,\n",
    "    temperature = 0.9,\n",
    "    n = 1\n",
    ")\n",
    "\n",
    "print(response.choices[0].text)"
   ]
  }
 ],
 "metadata": {
  "kernelspec": {
   "display_name": "venv",
   "language": "python",
   "name": "python3"
  },
  "language_info": {
   "codemirror_mode": {
    "name": "ipython",
    "version": 3
   },
   "file_extension": ".py",
   "mimetype": "text/x-python",
   "name": "python",
   "nbconvert_exporter": "python",
   "pygments_lexer": "ipython3",
   "version": "3.11.6"
  }
 },
 "nbformat": 4,
 "nbformat_minor": 2
}
