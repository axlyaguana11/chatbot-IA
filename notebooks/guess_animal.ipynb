{
 "cells": [
  {
   "cell_type": "code",
   "execution_count": 2,
   "metadata": {},
   "outputs": [],
   "source": [
    "import openai\n",
    "from dotenv import load_dotenv\n",
    "import os\n",
    "import random"
   ]
  },
  {
   "cell_type": "code",
   "execution_count": 3,
   "metadata": {},
   "outputs": [
    {
     "data": {
      "text/plain": [
       "True"
      ]
     },
     "execution_count": 3,
     "metadata": {},
     "output_type": "execute_result"
    }
   ],
   "source": [
    "load_dotenv()"
   ]
  },
  {
   "cell_type": "code",
   "execution_count": 4,
   "metadata": {},
   "outputs": [],
   "source": [
    "OPENAI_API_KEY = str(os.getenv('OPENAI_API_TEST'))\n",
    "openai.api_key = OPENAI_API_KEY"
   ]
  },
  {
   "cell_type": "code",
   "execution_count": 5,
   "metadata": {},
   "outputs": [],
   "source": [
    "def get_clue():\n",
    "    words = ['elefante', 'león', 'jirafa', 'hipopótamo', 'mono', 'cocodrila']\n",
    "    random_word = random.choice(words)\n",
    "    prompt = 'Adivina la palabra que estoy pensando. Es un animal que vive en la selva.'\n",
    "    return prompt, random_word"
   ]
  },
  {
   "cell_type": "code",
   "execution_count": 1,
   "metadata": {},
   "outputs": [],
   "source": [
    "def check_answer(user_input, answer):\n",
    "    return user_input == answer"
   ]
  },
  {
   "cell_type": "code",
   "execution_count": 7,
   "metadata": {},
   "outputs": [],
   "source": [
    "def give_property(animal):\n",
    "    response = openai.Completion.create(\n",
    "        engine = 'text-davinci-003',\n",
    "        prompt = 'Dame una caracterísitca del animal ' + animal + ' pero no digas su nombre',\n",
    "        max_tokens = 100\n",
    "    )\n",
    "    return response.choices[0].text"
   ]
  },
  {
   "cell_type": "code",
   "execution_count": 8,
   "metadata": {},
   "outputs": [],
   "source": [
    "def play_game():\n",
    "    prompt, answer = get_clue()\n",
    "    print(prompt)\n",
    "    while True:\n",
    "        user_input = input('Ingresa tu respuesta: ')\n",
    "        if check_answer(user_input, answer):\n",
    "            print('Correcto. La respuesta correcta era: ' + answer)\n",
    "            break\n",
    "        else:\n",
    "            print('Incorrecto. Intenta de nuevo.')\n",
    "            print(give_property(answer))"
   ]
  },
  {
   "cell_type": "code",
   "execution_count": 9,
   "metadata": {},
   "outputs": [
    {
     "name": "stdout",
     "output_type": "stream",
     "text": [
      "Adivina la palabra que estoy pensando. Es un animal que vive en la selva.\n"
     ]
    }
   ],
   "source": [
    "play_game()"
   ]
  },
  {
   "cell_type": "code",
   "execution_count": 1,
   "metadata": {},
   "outputs": [],
   "source": [
    "print(input('sss'))"
   ]
  }
 ],
 "metadata": {
  "kernelspec": {
   "display_name": "venv",
   "language": "python",
   "name": "python3"
  },
  "language_info": {
   "codemirror_mode": {
    "name": "ipython",
    "version": 3
   },
   "file_extension": ".py",
   "mimetype": "text/x-python",
   "name": "python",
   "nbconvert_exporter": "python",
   "pygments_lexer": "ipython3",
   "version": "3.11.6"
  }
 },
 "nbformat": 4,
 "nbformat_minor": 2
}
