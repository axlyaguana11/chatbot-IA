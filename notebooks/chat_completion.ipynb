{
 "cells": [
  {
   "cell_type": "code",
   "execution_count": 1,
   "metadata": {},
   "outputs": [],
   "source": [
    "import openai\n",
    "from dotenv import load_dotenv\n",
    "import os\n",
    "import random"
   ]
  },
  {
   "cell_type": "code",
   "execution_count": 2,
   "metadata": {},
   "outputs": [
    {
     "data": {
      "text/plain": [
       "True"
      ]
     },
     "execution_count": 2,
     "metadata": {},
     "output_type": "execute_result"
    }
   ],
   "source": [
    "load_dotenv()"
   ]
  },
  {
   "cell_type": "code",
   "execution_count": 3,
   "metadata": {},
   "outputs": [],
   "source": [
    "OPENAI_API_KEY = str(os.getenv('OPENAI_API_TEST'))\n",
    "openai.api_key = OPENAI_API_KEY"
   ]
  },
  {
   "cell_type": "code",
   "execution_count": 4,
   "metadata": {},
   "outputs": [
    {
     "name": "stdout",
     "output_type": "stream",
     "text": [
      "La Copa del Mundo de Fútbol de 2022 se jugó en Qatar. Fue la primera vez que se realizó en Oriente Medio.\n"
     ]
    }
   ],
   "source": [
    "response = openai.ChatCompletion.create(\n",
    "    model=\"gpt-3.5-turbo\",\n",
    "    messages=[\n",
    "        {\"role\": \"system\", \"content\": \"Eres un asistente virtual.\"},\n",
    "        {\"role\": \"user\", \"content\": \"¿Quién ganó la copa del mundo de fútbol en 2022?\"},\n",
    "        {\"role\": \"assistant\", \"content\": \"Lo ganó Argentina.\"},\n",
    "        {\"role\": \"user\", \"content\": \"¿Dónde se jugó?\"}\n",
    "    ]\n",
    ")\n",
    "\n",
    "print(response.choices[0].message.content)"
   ]
  },
  {
   "cell_type": "code",
   "execution_count": 5,
   "metadata": {},
   "outputs": [
    {
     "name": "stdout",
     "output_type": "stream",
     "text": [
      "La Copa del Mundo de Fútbol de 2022 se jugó en Qatar.\n"
     ]
    }
   ],
   "source": [
    "response = openai.ChatCompletion.create(\n",
    "    model=\"gpt-3.5-turbo\",\n",
    "    messages=[\n",
    "        {\"role\": \"system\", \"content\": \"Eres un asistente virtual.\"},\n",
    "        {\"role\": \"user\", \"content\": \"¿Quién ganó la copa del mundo de fútbol en 2022?\"},\n",
    "        {\"role\": \"assistant\", \"content\": \"Lo ganó Argentina.\"},\n",
    "        {\"role\": \"user\", \"content\": \"¿Dónde se jugó?\"}\n",
    "    ],\n",
    "    temperature=1\n",
    ")\n",
    "\n",
    "print(response.choices[0].message.content)"
   ]
  },
  {
   "cell_type": "code",
   "execution_count": 6,
   "metadata": {},
   "outputs": [
    {
     "name": "stdout",
     "output_type": "stream",
     "text": [
      "Se jugó en Qatar.\n"
     ]
    }
   ],
   "source": [
    "response = openai.ChatCompletion.create(\n",
    "    model=\"gpt-3.5-turbo\",\n",
    "    messages=[\n",
    "        {\"role\": \"system\", \"content\": \"Eres un asistente virtual.\"},\n",
    "        {\"role\": \"user\", \"content\": \"¿Quién ganó la copa del mundo de fútbol en 2022?\"},\n",
    "        {\"role\": \"assistant\", \"content\": \"Lo ganó Argentina.\"},\n",
    "        {\"role\": \"user\", \"content\": \"¿Dónde se jugó?\"}\n",
    "    ],\n",
    "    temperature=1.4\n",
    ")\n",
    "\n",
    "print(response.choices[0].message.content)"
   ]
  },
  {
   "cell_type": "code",
   "execution_count": 8,
   "metadata": {},
   "outputs": [
    {
     "name": "stdout",
     "output_type": "stream",
     "text": [
      "Lo siento, pero como asistente virtual, no tengo la capacidad de predecir eventos futuros. Hasta la fecha de mi última actualización en 2021, no se ha jugado la Copa del Mundo de Fútbol 2022. Está programada para celebrarse en Qatar.\n"
     ]
    }
   ],
   "source": [
    "response = openai.ChatCompletion.create(\n",
    "    model=\"gpt-4\",\n",
    "    messages=[\n",
    "        {\"role\": \"system\", \"content\": \"Eres un asistente virtual.\"},\n",
    "        {\"role\": \"user\", \"content\": \"¿Quién ganó la copa del mundo de fútbol en 2022?\"},\n",
    "        {\"role\": \"assistant\", \"content\": \"Lo ganó Argentina.\"},\n",
    "        {\"role\": \"user\", \"content\": \"¿Dónde se jugó?\"}\n",
    "    ],\n",
    "    temperature=0.2\n",
    ")\n",
    "\n",
    "print(response.choices[0].message.content)"
   ]
  }
 ],
 "metadata": {
  "kernelspec": {
   "display_name": "venv",
   "language": "python",
   "name": "python3"
  },
  "language_info": {
   "codemirror_mode": {
    "name": "ipython",
    "version": 3
   },
   "file_extension": ".py",
   "mimetype": "text/x-python",
   "name": "python",
   "nbconvert_exporter": "python",
   "pygments_lexer": "ipython3",
   "version": "3.11.6"
  }
 },
 "nbformat": 4,
 "nbformat_minor": 2
}
